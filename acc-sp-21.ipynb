{
 "cells": [
  {
   "cell_type": "code",
   "execution_count": 1,
   "id": "dc9c4db5",
   "metadata": {},
   "outputs": [],
   "source": [
    "#pip install imblearn"
   ]
  },
  {
   "cell_type": "code",
   "execution_count": 590,
   "id": "1a8228ce",
   "metadata": {},
   "outputs": [],
   "source": [
    "import numpy as np\n",
    "import numpy\n",
    "import pandas as pd\n",
    "from pandas import read_csv\n",
    "from xgboost import XGBClassifier\n",
    "from sklearn.model_selection import train_test_split\n",
    "from sklearn.metrics import accuracy_score\n",
    "from sklearn.preprocessing import LabelEncoder\n",
    "from sklearn.preprocessing import OneHotEncoder\n",
    "from sklearn.model_selection import KFold\n",
    "from sklearn.model_selection import cross_val_score\n",
    "import xgboost as xgb\n",
    "from xgboost import plot_importance\n",
    "import seaborn as sns\n",
    "import matplotlib\n",
    "from matplotlib.colors import LogNorm\n",
    "from matplotlib import pyplot as plt\n",
    "import warnings\n",
    "warnings.filterwarnings('ignore')\n",
    "from imblearn.over_sampling import SMOTE\n",
    "from imblearn.over_sampling import BorderlineSMOTE\n",
    "from imblearn.under_sampling import RandomUnderSampler\n",
    "from sklearn.metrics import plot_confusion_matrix\n",
    "from sklearn.metrics import classification_report\n",
    "from sklearn.metrics import roc_curve\n",
    "from sklearn.datasets import make_classification"
   ]
  },
  {
   "cell_type": "code",
   "execution_count": 783,
   "id": "d1c09927",
   "metadata": {},
   "outputs": [],
   "source": [
    "mesames = read_csv('mes0102030405060708091011120102030405060708091011_ano2021acc.csv', delimiter=\",\", low_memory=False, keep_default_na=False)"
   ]
  },
  {
   "cell_type": "code",
   "execution_count": 780,
   "id": "58414697",
   "metadata": {},
   "outputs": [],
   "source": [
    "mesames = mesames.drop(mesames.columns[0], axis=1)"
   ]
  },
  {
   "cell_type": "code",
   "execution_count": 781,
   "id": "3ebdff99",
   "metadata": {
    "scrolled": false
   },
   "outputs": [],
   "source": [
    "mesames = mesames.drop(mesames.columns[0], axis=1)"
   ]
  },
  {
   "cell_type": "code",
   "execution_count": 782,
   "id": "3de05bde",
   "metadata": {},
   "outputs": [],
   "source": [
    "mesames = mesames.drop(mesames.columns[0], axis=1)"
   ]
  },
  {
   "cell_type": "code",
   "execution_count": 766,
   "id": "04499d9a",
   "metadata": {},
   "outputs": [],
   "source": [
    "mesames = mesames.drop(mesames.columns[0], axis=1)"
   ]
  },
  {
   "cell_type": "code",
   "execution_count": 767,
   "id": "a6297f65",
   "metadata": {},
   "outputs": [],
   "source": [
    "#\n",
    "mesames = mesames.drop(mesames.columns[0], axis=1)"
   ]
  },
  {
   "cell_type": "code",
   "execution_count": 768,
   "id": "2868c8ec",
   "metadata": {},
   "outputs": [],
   "source": [
    "#\n",
    "mesames = mesames.drop(columns=['VACINA_COV'])"
   ]
  },
  {
   "cell_type": "code",
   "execution_count": 769,
   "id": "c523d741",
   "metadata": {},
   "outputs": [],
   "source": [
    "#mesames"
   ]
  },
  {
   "cell_type": "code",
   "execution_count": 770,
   "id": "765192df",
   "metadata": {},
   "outputs": [],
   "source": [
    "dataset = mesames.values\n",
    "# split data into X and y\n",
    "n, m = mesames.shape \n",
    "X = dataset[:,0:m-1]\n",
    "Y = dataset[:,m-1]"
   ]
  },
  {
   "cell_type": "code",
   "execution_count": 771,
   "id": "a5706390",
   "metadata": {},
   "outputs": [
    {
     "name": "stdout",
     "output_type": "stream",
     "text": [
      "              precision    recall  f1-score   support\n",
      "\n",
      "           0       0.55      0.13      0.21     63129\n",
      "           1       0.69      0.95      0.80    128116\n",
      "\n",
      "    accuracy                           0.68    191245\n",
      "   macro avg       0.62      0.54      0.50    191245\n",
      "weighted avg       0.64      0.68      0.60    191245\n",
      "\n"
     ]
    },
    {
     "data": {
      "text/plain": [
       "<sklearn.metrics._plot.confusion_matrix.ConfusionMatrixDisplay at 0x2688d4db9a0>"
      ]
     },
     "execution_count": 771,
     "metadata": {},
     "output_type": "execute_result"
    },
    {
     "data": {
      "image/png": "[encoded data removed]",
      "text/plain": [
       "<Figure size 432x288 with 2 Axes>"
      ]
     },
     "metadata": {
      "needs_background": "light"
     },
     "output_type": "display_data"
    }
   ],
   "source": [
    "seed = 7\n",
    "test_size = 0.33\n",
    "\n",
    "X_train, X_test, y_train, y_test = train_test_split(X, Y, test_size=test_size, random_state=seed, \n",
    "shuffle=True, stratify=Y)\n",
    "\n",
    "# fit model no training data\n",
    "model = XGBClassifier()\n",
    "model.fit(X_train, y_train)\n",
    "\n",
    "y_pred = model.predict(X_test)\n",
    "predictions = [round(value) for value in y_pred]\n",
    "\n",
    "# evaluate predictions\n",
    "accuracy = accuracy_score(y_test, predictions)\n",
    "\n",
    "print(classification_report(y_test, y_pred))\n",
    "plot_confusion_matrix(model, X_test, y_test, cmap='Blues')"
   ]
  },
  {
   "cell_type": "code",
   "execution_count": 772,
   "id": "d2365c9d",
   "metadata": {},
   "outputs": [],
   "source": [
    "#seed = 7\n",
    "#test_size = 0.33\n",
    "\n",
    "#X_train, X_test, y_train, y_test = train_test_split(X, Y, test_size=test_size, random_state=seed, \n",
    "#shuffle=True, stratify=Y)\n",
    "\n",
    "#oversampled = SMOTE(sampling_strategy=0.7, random_state=0, k_neighbors=4)\n",
    "\n",
    "#X_train_smote, y_train_smote = oversampled.fit_resample(X_train, y_train)\n",
    "\n",
    "# fit model no training data\n",
    "#model = XGBClassifier()\n",
    "#model.fit(X_train_smote, y_train_smote)\n",
    "\n",
    "# make predictions for test data\n",
    "#start = time.time()\n",
    "#y_pred = model.predict(X_test)\n",
    "#print(time.time() - start)\n",
    "#predictions = [round(value) for value in y_pred]\n",
    "\n",
    "# evaluate predictions\n",
    "#accuracy = accuracy_score(y_test, predictions)\n",
    "\n",
    "#cross validation\n",
    "#kfold = KFold(n_splits=10, random_state= None)\n",
    "#results = cross_val_score(model, X_train, y_train, cv=kfold)\n",
    "\n",
    "#print(\"Accuracy: %.2f%%\" % (accuracy * 100.0))\n",
    "#plot_importance(model)\n",
    "#plt.show()\n",
    "\n",
    "#print(classification_report(y_test, y_pred))\n",
    "#plot_confusion_matrix(model, X_test, y_test, cmap='Blues')"
   ]
  },
  {
   "cell_type": "code",
   "execution_count": 773,
   "id": "3d278b1a",
   "metadata": {},
   "outputs": [],
   "source": [
    "import shap\n",
    "\n",
    "# Generate the Tree explainer and SHAP values\n",
    "explainer = shap.TreeExplainer(model)\n",
    "shap_values = explainer.shap_values(X)\n",
    "expected_value = explainer.expected_value\n",
    "#print(shap_values)\n",
    "#print(expected_value)\n"
   ]
  },
  {
   "cell_type": "code",
   "execution_count": 774,
   "id": "9ae45f59",
   "metadata": {
    "scrolled": false
   },
   "outputs": [
    {
     "data": {
      "image/png": "[encoded data removed]",
      "text/plain": [
       "<Figure size 576x504 with 3 Axes>"
      ]
     },
     "metadata": {},
     "output_type": "display_data"
    }
   ],
   "source": [
    "# O gráfico é calculado por sample, ou seja, cada linha possui seu shap value\n",
    "# O  valor inferior no gráfico é base value ou Expected value E[f(x)] e f(x) a predição do modelo \n",
    "# E[f(x)] é o valor que seria previsto se não conhecêssemos nenhuma feature para a saída atual\n",
    "# Em outras palavras, é a previsão média, ou média(y)\n",
    "# Assim, E[f(x)] número médio previsto casos de covid entre todas as observações\n",
    "# O valor final f(x) é o número previsto de casos para esta observação.\n",
    "\n",
    "i= 1000\n",
    "shap.plots._waterfall.waterfall_legacy(expected_value, shap_values[m-i], features = X[m-i,:], feature_names=['DESC_RESP','DIARREIA',\n",
    "                  'DISPNEIA','DOR_ABD','FADIGA','FEBRE','GARGANTA',\n",
    "                  'PERD_OLFT','PERD_PALA','SATURACAO','TOSSE','VOMITO'], max_display = 30)"
   ]
  },
  {
   "cell_type": "code",
   "execution_count": 775,
   "id": "7201a0d3",
   "metadata": {},
   "outputs": [],
   "source": [
    "mesames = read_csv('mes0102030405060708091011120102030405060708091011_ano2021acc.csv', delimiter=\",\", low_memory=False, keep_default_na=False)"
   ]
  },
  {
   "cell_type": "code",
   "execution_count": 776,
   "id": "ebe9f982",
   "metadata": {},
   "outputs": [],
   "source": [
    "dfmes = mesames[['FADIGA','DISPNEIA','DOR_ABD','PERD_PALA','SATURACAO','CLASSI_FIN']]"
   ]
  },
  {
   "cell_type": "code",
   "execution_count": 777,
   "id": "be7c473c",
   "metadata": {},
   "outputs": [],
   "source": [
    "#dfmes"
   ]
  },
  {
   "cell_type": "code",
   "execution_count": 778,
   "id": "19fd381f",
   "metadata": {},
   "outputs": [],
   "source": [
    "dfmes.to_csv(\"df_mes0102030405060708091011120102030405060708091011_ano2021acc.csv\")"
   ]
  },
  {
   "cell_type": "code",
   "execution_count": null,
   "id": "4b0367f3",
   "metadata": {},
   "outputs": [],
   "source": []
  }
 ],
 "metadata": {
  "kernelspec": {
   "display_name": "Python 3 (ipykernel)",
   "language": "python",
   "name": "python3"
  },
  "language_info": {
   "codemirror_mode": {
    "name": "ipython",
    "version": 3
   },
   "file_extension": ".py",
   "mimetype": "text/x-python",
   "name": "python",
   "nbconvert_exporter": "python",
   "pygments_lexer": "ipython3",
   "version": "3.9.12"
  }
 },
 "nbformat": 4,
 "nbformat_minor": 5
}
