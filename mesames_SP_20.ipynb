{
 "cells": [
  {
   "cell_type": "code",
   "execution_count": 1,
   "id": "dc9c4db5",
   "metadata": {},
   "outputs": [],
   "source": [
    "#pip install imblearn"
   ]
  },
  {
   "cell_type": "code",
   "execution_count": 2,
   "id": "1a8228ce",
   "metadata": {},
   "outputs": [],
   "source": [
    "import numpy as np\n",
    "import numpy\n",
    "import pandas as pd\n",
    "from pandas import read_csv\n",
    "from xgboost import XGBClassifier\n",
    "from sklearn.model_selection import train_test_split\n",
    "from sklearn.metrics import accuracy_score\n",
    "from sklearn.preprocessing import LabelEncoder\n",
    "from sklearn.preprocessing import OneHotEncoder\n",
    "from sklearn.model_selection import KFold\n",
    "from sklearn.model_selection import cross_val_score\n",
    "import xgboost as xgb\n",
    "from xgboost import plot_importance\n",
    "import seaborn as sns\n",
    "import matplotlib\n",
    "from matplotlib.colors import LogNorm\n",
    "from matplotlib import pyplot as plt\n",
    "import warnings\n",
    "warnings.filterwarnings('ignore')\n",
    "from imblearn.over_sampling import SMOTE\n",
    "from imblearn.over_sampling import BorderlineSMOTE\n",
    "from imblearn.under_sampling import RandomUnderSampler\n",
    "from sklearn.metrics import plot_confusion_matrix\n",
    "from sklearn.metrics import classification_report\n",
    "from sklearn.metrics import roc_curve\n",
    "from sklearn.datasets import make_classification"
   ]
  },
  {
   "cell_type": "code",
   "execution_count": 3,
   "id": "d1c09927",
   "metadata": {},
   "outputs": [],
   "source": [
    "mesames = read_csv('mes11_ano20.csv', delimiter=\",\", low_memory=False, keep_default_na=False)"
   ]
  },
  {
   "cell_type": "code",
   "execution_count": 4,
   "id": "58414697",
   "metadata": {},
   "outputs": [],
   "source": [
    "mesames = mesames.drop(mesames.columns[0], axis=1)"
   ]
  },
  {
   "cell_type": "code",
   "execution_count": 5,
   "id": "3ebdff99",
   "metadata": {
    "scrolled": false
   },
   "outputs": [],
   "source": [
    "mesames = mesames.drop(mesames.columns[0], axis=1)"
   ]
  },
  {
   "cell_type": "code",
   "execution_count": 6,
   "id": "3de05bde",
   "metadata": {},
   "outputs": [],
   "source": [
    "mesames = mesames.drop(mesames.columns[0], axis=1)"
   ]
  },
  {
   "cell_type": "code",
   "execution_count": 7,
   "id": "04499d9a",
   "metadata": {},
   "outputs": [],
   "source": [
    "mesames = mesames.drop(mesames.columns[0], axis=1)"
   ]
  },
  {
   "cell_type": "code",
   "execution_count": 8,
   "id": "a6297f65",
   "metadata": {},
   "outputs": [],
   "source": [
    "#mesames = mesames.drop(mesames.columns[12], axis=1)"
   ]
  },
  {
   "cell_type": "code",
   "execution_count": 9,
   "id": "2e329bb8",
   "metadata": {},
   "outputs": [
    {
     "data": {
      "text/html": [
       "<div>\n",
       "<style scoped>\n",
       "    .dataframe tbody tr th:only-of-type {\n",
       "        vertical-align: middle;\n",
       "    }\n",
       "\n",
       "    .dataframe tbody tr th {\n",
       "        vertical-align: top;\n",
       "    }\n",
       "\n",
       "    .dataframe thead th {\n",
       "        text-align: right;\n",
       "    }\n",
       "</style>\n",
       "<table border=\"1\" class=\"dataframe\">\n",
       "  <thead>\n",
       "    <tr style=\"text-align: right;\">\n",
       "      <th></th>\n",
       "      <th>DESC_RESP</th>\n",
       "      <th>DIARREIA</th>\n",
       "      <th>DISPNEIA</th>\n",
       "      <th>DOR_ABD</th>\n",
       "      <th>FADIGA</th>\n",
       "      <th>FEBRE</th>\n",
       "      <th>GARGANTA</th>\n",
       "      <th>PERD_OLFT</th>\n",
       "      <th>PERD_PALA</th>\n",
       "      <th>SATURACAO</th>\n",
       "      <th>TOSSE</th>\n",
       "      <th>VOMITO</th>\n",
       "      <th>CLASSI_FIN</th>\n",
       "    </tr>\n",
       "  </thead>\n",
       "  <tbody>\n",
       "    <tr>\n",
       "      <th>0</th>\n",
       "      <td>1</td>\n",
       "      <td>2</td>\n",
       "      <td>1</td>\n",
       "      <td>0</td>\n",
       "      <td>0</td>\n",
       "      <td>1</td>\n",
       "      <td>2</td>\n",
       "      <td>0</td>\n",
       "      <td>0</td>\n",
       "      <td>1</td>\n",
       "      <td>1</td>\n",
       "      <td>2</td>\n",
       "      <td>0</td>\n",
       "    </tr>\n",
       "    <tr>\n",
       "      <th>1</th>\n",
       "      <td>1</td>\n",
       "      <td>2</td>\n",
       "      <td>1</td>\n",
       "      <td>0</td>\n",
       "      <td>0</td>\n",
       "      <td>1</td>\n",
       "      <td>2</td>\n",
       "      <td>0</td>\n",
       "      <td>0</td>\n",
       "      <td>1</td>\n",
       "      <td>1</td>\n",
       "      <td>2</td>\n",
       "      <td>0</td>\n",
       "    </tr>\n",
       "    <tr>\n",
       "      <th>2</th>\n",
       "      <td>1</td>\n",
       "      <td>2</td>\n",
       "      <td>1</td>\n",
       "      <td>0</td>\n",
       "      <td>0</td>\n",
       "      <td>1</td>\n",
       "      <td>1</td>\n",
       "      <td>0</td>\n",
       "      <td>0</td>\n",
       "      <td>1</td>\n",
       "      <td>1</td>\n",
       "      <td>2</td>\n",
       "      <td>1</td>\n",
       "    </tr>\n",
       "    <tr>\n",
       "      <th>3</th>\n",
       "      <td>1</td>\n",
       "      <td>2</td>\n",
       "      <td>1</td>\n",
       "      <td>0</td>\n",
       "      <td>0</td>\n",
       "      <td>1</td>\n",
       "      <td>2</td>\n",
       "      <td>0</td>\n",
       "      <td>0</td>\n",
       "      <td>1</td>\n",
       "      <td>1</td>\n",
       "      <td>2</td>\n",
       "      <td>0</td>\n",
       "    </tr>\n",
       "    <tr>\n",
       "      <th>4</th>\n",
       "      <td>1</td>\n",
       "      <td>2</td>\n",
       "      <td>2</td>\n",
       "      <td>0</td>\n",
       "      <td>0</td>\n",
       "      <td>1</td>\n",
       "      <td>2</td>\n",
       "      <td>0</td>\n",
       "      <td>0</td>\n",
       "      <td>1</td>\n",
       "      <td>1</td>\n",
       "      <td>2</td>\n",
       "      <td>0</td>\n",
       "    </tr>\n",
       "    <tr>\n",
       "      <th>...</th>\n",
       "      <td>...</td>\n",
       "      <td>...</td>\n",
       "      <td>...</td>\n",
       "      <td>...</td>\n",
       "      <td>...</td>\n",
       "      <td>...</td>\n",
       "      <td>...</td>\n",
       "      <td>...</td>\n",
       "      <td>...</td>\n",
       "      <td>...</td>\n",
       "      <td>...</td>\n",
       "      <td>...</td>\n",
       "      <td>...</td>\n",
       "    </tr>\n",
       "    <tr>\n",
       "      <th>26053</th>\n",
       "      <td>1</td>\n",
       "      <td>2</td>\n",
       "      <td>1</td>\n",
       "      <td>2</td>\n",
       "      <td>1</td>\n",
       "      <td>2</td>\n",
       "      <td>2</td>\n",
       "      <td>2</td>\n",
       "      <td>2</td>\n",
       "      <td>1</td>\n",
       "      <td>1</td>\n",
       "      <td>2</td>\n",
       "      <td>1</td>\n",
       "    </tr>\n",
       "    <tr>\n",
       "      <th>26054</th>\n",
       "      <td>1</td>\n",
       "      <td>2</td>\n",
       "      <td>1</td>\n",
       "      <td>0</td>\n",
       "      <td>0</td>\n",
       "      <td>1</td>\n",
       "      <td>2</td>\n",
       "      <td>0</td>\n",
       "      <td>0</td>\n",
       "      <td>1</td>\n",
       "      <td>1</td>\n",
       "      <td>2</td>\n",
       "      <td>0</td>\n",
       "    </tr>\n",
       "    <tr>\n",
       "      <th>26055</th>\n",
       "      <td>1</td>\n",
       "      <td>2</td>\n",
       "      <td>1</td>\n",
       "      <td>0</td>\n",
       "      <td>0</td>\n",
       "      <td>1</td>\n",
       "      <td>2</td>\n",
       "      <td>0</td>\n",
       "      <td>0</td>\n",
       "      <td>1</td>\n",
       "      <td>1</td>\n",
       "      <td>2</td>\n",
       "      <td>1</td>\n",
       "    </tr>\n",
       "    <tr>\n",
       "      <th>26056</th>\n",
       "      <td>1</td>\n",
       "      <td>1</td>\n",
       "      <td>1</td>\n",
       "      <td>2</td>\n",
       "      <td>2</td>\n",
       "      <td>2</td>\n",
       "      <td>1</td>\n",
       "      <td>2</td>\n",
       "      <td>2</td>\n",
       "      <td>1</td>\n",
       "      <td>1</td>\n",
       "      <td>2</td>\n",
       "      <td>0</td>\n",
       "    </tr>\n",
       "    <tr>\n",
       "      <th>26057</th>\n",
       "      <td>1</td>\n",
       "      <td>2</td>\n",
       "      <td>1</td>\n",
       "      <td>2</td>\n",
       "      <td>1</td>\n",
       "      <td>2</td>\n",
       "      <td>2</td>\n",
       "      <td>2</td>\n",
       "      <td>2</td>\n",
       "      <td>1</td>\n",
       "      <td>1</td>\n",
       "      <td>2</td>\n",
       "      <td>1</td>\n",
       "    </tr>\n",
       "  </tbody>\n",
       "</table>\n",
       "<p>26058 rows × 13 columns</p>\n",
       "</div>"
      ],
      "text/plain": [
       "       DESC_RESP  DIARREIA  DISPNEIA  DOR_ABD  FADIGA  FEBRE  GARGANTA  \\\n",
       "0              1         2         1        0       0      1         2   \n",
       "1              1         2         1        0       0      1         2   \n",
       "2              1         2         1        0       0      1         1   \n",
       "3              1         2         1        0       0      1         2   \n",
       "4              1         2         2        0       0      1         2   \n",
       "...          ...       ...       ...      ...     ...    ...       ...   \n",
       "26053          1         2         1        2       1      2         2   \n",
       "26054          1         2         1        0       0      1         2   \n",
       "26055          1         2         1        0       0      1         2   \n",
       "26056          1         1         1        2       2      2         1   \n",
       "26057          1         2         1        2       1      2         2   \n",
       "\n",
       "       PERD_OLFT  PERD_PALA  SATURACAO  TOSSE  VOMITO  CLASSI_FIN  \n",
       "0              0          0          1      1       2           0  \n",
       "1              0          0          1      1       2           0  \n",
       "2              0          0          1      1       2           1  \n",
       "3              0          0          1      1       2           0  \n",
       "4              0          0          1      1       2           0  \n",
       "...          ...        ...        ...    ...     ...         ...  \n",
       "26053          2          2          1      1       2           1  \n",
       "26054          0          0          1      1       2           0  \n",
       "26055          0          0          1      1       2           1  \n",
       "26056          2          2          1      1       2           0  \n",
       "26057          2          2          1      1       2           1  \n",
       "\n",
       "[26058 rows x 13 columns]"
      ]
     },
     "execution_count": 9,
     "metadata": {},
     "output_type": "execute_result"
    }
   ],
   "source": [
    "#\n",
    "mesames"
   ]
  },
  {
   "cell_type": "code",
   "execution_count": 10,
   "id": "765192df",
   "metadata": {},
   "outputs": [],
   "source": [
    "dataset = mesames.values\n",
    "# split data into X and y\n",
    "n, m = mesames.shape \n",
    "X = dataset[:,0:m-1]\n",
    "Y = dataset[:,m-1]"
   ]
  },
  {
   "cell_type": "code",
   "execution_count": 11,
   "id": "5314b7ca",
   "metadata": {
    "scrolled": false
   },
   "outputs": [
    {
     "name": "stdout",
     "output_type": "stream",
     "text": [
      "Accuracy: 62.40%\n",
      "              precision    recall  f1-score   support\n",
      "\n",
      "           0       0.52      0.20      0.29      3288\n",
      "           1       0.64      0.89      0.74      5312\n",
      "\n",
      "    accuracy                           0.62      8600\n",
      "   macro avg       0.58      0.54      0.52      8600\n",
      "weighted avg       0.60      0.62      0.57      8600\n",
      "\n"
     ]
    },
    {
     "data": {
      "text/plain": [
       "<sklearn.metrics._plot.confusion_matrix.ConfusionMatrixDisplay at 0x17f05c711c0>"
      ]
     },
     "execution_count": 11,
     "metadata": {},
     "output_type": "execute_result"
    },
    {
     "data": {
      "image/png": "[encoded data removed]",
      "text/plain": [
       "<Figure size 432x288 with 2 Axes>"
      ]
     },
     "metadata": {
      "needs_background": "light"
     },
     "output_type": "display_data"
    }
   ],
   "source": [
    "#\n",
    "seed = 7\n",
    "#\n",
    "test_size = 0.33\n",
    "#\n",
    "X_train, X_test, y_train, y_test = train_test_split(X, Y, test_size=test_size, random_state=seed)\n",
    "\n",
    "#\n",
    "model = XGBClassifier()\n",
    "#\n",
    "model.fit(X_train, y_train)\n",
    "\n",
    "#\n",
    "y_pred = model.predict(X_test)\n",
    "\n",
    "#\n",
    "predictions = [round(value) for value in y_pred]\n",
    "\n",
    "#\n",
    "accuracy = accuracy_score(y_test, predictions)\n",
    "\n",
    "#\n",
    "print(\"Accuracy: %.2f%%\" % (accuracy * 100.0))\n",
    "\n",
    "print(classification_report(y_test, y_pred))\n",
    "#\n",
    "#\n",
    "plot_confusion_matrix(model, X_test, y_test, cmap='Blues')\n"
   ]
  },
  {
   "cell_type": "code",
   "execution_count": 12,
   "id": "d2365c9d",
   "metadata": {},
   "outputs": [
    {
     "name": "stdout",
     "output_type": "stream",
     "text": [
      "Accuracy: 65.50%\n"
     ]
    }
   ],
   "source": [
    "#\n",
    "seed = 7\n",
    "#\n",
    "test_size = 0.33\n",
    "\n",
    "#\n",
    "X_train, X_test, y_train, y_test = train_test_split(X, Y, test_size=test_size, random_state=seed, shuffle=True, stratify=Y)\n",
    "#\n",
    "oversampled = SMOTE(sampling_strategy=0.7, random_state=0, k_neighbors=4)\n",
    "\n",
    "#\n",
    "X_train_smote, y_train_smote = oversampled.fit_resample(X_train, y_train)\n",
    "\n",
    "\n",
    "#\n",
    "model = XGBClassifier()\n",
    "#\n",
    "model.fit(X, Y)\n",
    "\n",
    "\n",
    "#\n",
    "y_pred = model.predict(X_test)\n",
    "#\n",
    "predictions = [round(value) for value in y_pred]\n",
    "\n",
    "#\n",
    "accuracy = accuracy_score(y_test, predictions)\n",
    "\n",
    "#\n",
    "print(\"Accuracy: %.2f%%\" % (accuracy * 100.0))\n",
    "\n",
    "\n"
   ]
  },
  {
   "cell_type": "code",
   "execution_count": 40,
   "id": "3d278b1a",
   "metadata": {},
   "outputs": [],
   "source": [
    "import shap\n",
    "\n",
    "# Generate the Tree explainer and SHAP values\n",
    "explainer = shap.TreeExplainer(model)\n",
    "shap_values = explainer.shap_values(X)\n",
    "expected_value = explainer.expected_value\n",
    "#print(shap_values)\n",
    "#print(expected_value)\n"
   ]
  },
  {
   "cell_type": "code",
   "execution_count": 41,
   "id": "b52c99c8",
   "metadata": {
    "scrolled": false
   },
   "outputs": [
    {
     "data": {
      "image/png": "[encoded data removed]",
      "text/plain": [
       "<Figure size 576x540 with 3 Axes>"
      ]
     },
     "metadata": {},
     "output_type": "display_data"
    }
   ],
   "source": [
    "# O gráfico é calculado por sample, ou seja, cada linha possui seu shap value\n",
    "# O  valor inferior no gráfico é base value ou Expected value E[f(x)] e f(x) a predição do modelo \n",
    "# E[f(x)] é o valor que seria previsto se não conhecêssemos nenhuma feature para a saída atual\n",
    "# Em outras palavras, é a previsão média, ou média(y)\n",
    "# Assim, E[f(x)] número médio previsto casos de covid entre todas as observações\n",
    "# O valor final f(x) é o número previsto de casos para esta observação.\n",
    "\n",
    "i= 1000\n",
    "shap.plots._waterfall.waterfall_legacy(expected_value, shap_values[m-i], features = X[m-i,:], feature_names=['DESC_RESP','DIARREIA',\n",
    "                  'DISPNEIA','DOR_ABD','FADIGA','FEBRE','GARGANTA',\n",
    "                  'PERD_OLFT','PERD_PALA','SATURACAO','TOSSE','VOMITO'], max_display = 30)"
   ]
  },
  {
   "cell_type": "code",
   "execution_count": 231,
   "id": "91da813d",
   "metadata": {},
   "outputs": [],
   "source": [
    "#d_x = pd.DataFrame(X, columns = ['DESC_RESP','DIARREIA',\n",
    "  #                'DISPNEIA','DOR_ABD','FADIGA','FEBRE','GARGANTA',\n",
    "  #                'PERD_OLFT','PERD_PALA','SATURACAO','TOSSE','VOMITO'])\n"
   ]
  },
  {
   "cell_type": "code",
   "execution_count": 232,
   "id": "7586c643",
   "metadata": {},
   "outputs": [],
   "source": [
    "#shap.initjs()\n",
    "\n",
    "#d_xx = d_x.to_numpy()\n",
    "\n",
    "# As variáveis estão em ordem descendente de importância\n",
    "# A posição no eixo y é determinada pela feature e o eixo x pelo valor Shapley. \n",
    "# Os pontos sobrepostos são distorcidos na direção do eixo y, então temos uma noção da distribuição dos valores de Shapley \n",
    "#por recurso.\n",
    "# A cor mostra se o valor da váriável é alto ou baixo para a observação: alto = rosa, baixo = azul\n",
    "# Positivo = +x, negativo -x\n",
    "\n",
    "# Generate summary dot plot\n",
    "#shap.summary_plot(shap_values,d_xx, max_display = 30, feature_names=['DESC_RESP','DIARREIA',\n",
    "                  #'DISPNEIA','DOR_ABD','FADIGA','FEBRE','GARGANTA',\n",
    "                  #'PERD_OLFT','PERD_PALA','SATURACAO','TOSSE','VOMITO'])"
   ]
  },
  {
   "cell_type": "code",
   "execution_count": 233,
   "id": "e821e614",
   "metadata": {},
   "outputs": [],
   "source": [
    "#shap.summary_plot(shap_values, d_x, plot_type=\"bar\")"
   ]
  },
  {
   "cell_type": "code",
   "execution_count": 234,
   "id": "7201a0d3",
   "metadata": {},
   "outputs": [],
   "source": [
    "mesames = read_csv('mes12_ano21.csv', delimiter=\",\", low_memory=False, keep_default_na=False)"
   ]
  },
  {
   "cell_type": "code",
   "execution_count": 235,
   "id": "ebe9f982",
   "metadata": {},
   "outputs": [],
   "source": [
    "dfmes = mesames[['SATURACAO','FEBRE','DISPNEIA','VOMITO','GARGANTA','DOR_ABD','CLASSI_FIN']]"
   ]
  },
  {
   "cell_type": "code",
   "execution_count": 236,
   "id": "be7c473c",
   "metadata": {},
   "outputs": [],
   "source": [
    "#dfmes"
   ]
  },
  {
   "cell_type": "code",
   "execution_count": 237,
   "id": "19fd381f",
   "metadata": {},
   "outputs": [],
   "source": [
    "dfmes.to_csv(\"df_mes12_ano21.csv\")"
   ]
  },
  {
   "cell_type": "code",
   "execution_count": null,
   "id": "16a9996f",
   "metadata": {},
   "outputs": [],
   "source": []
  }
 ],
 "metadata": {
  "kernelspec": {
   "display_name": "Python 3 (ipykernel)",
   "language": "python",
   "name": "python3"
  },
  "language_info": {
   "codemirror_mode": {
    "name": "ipython",
    "version": 3
   },
   "file_extension": ".py",
   "mimetype": "text/x-python",
   "name": "python",
   "nbconvert_exporter": "python",
   "pygments_lexer": "ipython3",
   "version": "3.9.12"
  }
 },
 "nbformat": 4,
 "nbformat_minor": 5
}
