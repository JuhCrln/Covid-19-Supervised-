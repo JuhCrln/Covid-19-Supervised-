{
 "cells": [
  {
   "cell_type": "code",
   "execution_count": 1,
   "id": "1a8228ce",
   "metadata": {},
   "outputs": [],
   "source": [
    "import numpy as np\n",
    "import numpy\n",
    "import pandas as pd\n",
    "from pandas import read_csv\n",
    "from xgboost import XGBClassifier\n",
    "from sklearn.model_selection import train_test_split\n",
    "from sklearn.metrics import accuracy_score\n",
    "from sklearn.preprocessing import LabelEncoder\n",
    "from sklearn.preprocessing import OneHotEncoder\n",
    "from sklearn.model_selection import KFold\n",
    "from sklearn.model_selection import cross_val_score\n",
    "import xgboost as xgb\n",
    "from xgboost import plot_importance\n",
    "import seaborn as sns\n",
    "import matplotlib\n",
    "from matplotlib.colors import LogNorm\n",
    "from matplotlib import pyplot as plt\n",
    "import warnings\n",
    "warnings.filterwarnings('ignore')"
   ]
  },
  {
   "cell_type": "code",
   "execution_count": 2,
   "id": "640fb0f9",
   "metadata": {},
   "outputs": [],
   "source": [
    "# load data\n",
    "filtered_df_SP_20_final = read_csv('filtered_df_SP_20_final.csv', delimiter=\",\", low_memory=False, keep_default_na=False)"
   ]
  },
  {
   "cell_type": "code",
   "execution_count": 3,
   "id": "be99ccb6",
   "metadata": {},
   "outputs": [],
   "source": [
    "#filtered_df_SP_20_final"
   ]
  },
  {
   "cell_type": "code",
   "execution_count": 4,
   "id": "58414697",
   "metadata": {},
   "outputs": [],
   "source": [
    "filtered_df_SP_20_final = filtered_df_SP_20_final.drop(filtered_df_SP_20_final.columns[0], axis=1)"
   ]
  },
  {
   "cell_type": "code",
   "execution_count": 5,
   "id": "537d2a8e",
   "metadata": {},
   "outputs": [],
   "source": [
    "#filtered_df_SP_20_final"
   ]
  },
  {
   "cell_type": "markdown",
   "id": "9603fcd8",
   "metadata": {},
   "source": [
    "# 2021"
   ]
  },
  {
   "cell_type": "code",
   "execution_count": 17,
   "id": "c32106d8",
   "metadata": {},
   "outputs": [],
   "source": [
    "#mes01 = filtered_df_SP_20_final[filtered_df_SP_20_final['month'] == 1]\n",
    "#mes01_ano20 = mes01[mes01['year'] == 2020]\n",
    "#mes01_ano20.to_csv(\"mes01_ano20.csv\")\n",
    "\n",
    "\n",
    "#mes02 = filtered_df_SP_20_final[filtered_df_SP_20_final['month'] == 2]\n",
    "#mes02_ano20 = mes02[mes02['year'] == 2020]\n",
    "#mes02_ano20.to_csv(\"mes02_ano20.csv\")\n",
    "\n",
    "\n",
    "#mes03 = filtered_df_SP_20_final[filtered_df_SP_20_final['month'] == 3]\n",
    "#mes03_ano20 = mes03[mes03['year'] == 2020]\n",
    "#mes03_ano20.to_csv(\"mes03_ano20.csv\")\n",
    "\n",
    "\n",
    "#mes04 = filtered_df_SP_20_final[filtered_df_SP_20_final['month'] == 4]\n",
    "#mes04_ano20 = mes04[mes04['year'] == 2020]\n",
    "#mes04_ano20.to_csv(\"mes04_ano20.csv\")\n",
    "\n",
    "\n",
    "#mes05 = filtered_df_SP_20_final[filtered_df_SP_20_final['month'] == 5]\n",
    "#mes05_ano20 = mes05[mes05['year'] == 2020]\n",
    "#mes05_ano20.to_csv(\"mes05_ano20.csv\")\n",
    "\n",
    "\n",
    "#mes06 = filtered_df_SP_20_final[filtered_df_SP_20_final['month'] == 6]\n",
    "#mes06_ano20 = mes06[mes06['year'] == 2020]\n",
    "#mes06_ano20.to_csv(\"mes06_ano20.csv\")\n",
    "\n",
    "\n",
    "#mes07 = filtered_df_SP_20_final[filtered_df_SP_20_final['month'] == 7]\n",
    "#mes07_ano20 = mes07[mes07['year'] == 2020]\n",
    "#mes07_ano20.to_csv(\"mes07_ano20.csv\")\n",
    "\n",
    "\n",
    "#mes08 = filtered_df_SP_20_final[filtered_df_SP_20_final['month'] == 8]\n",
    "#mes08_ano20 = mes08[mes08['year'] == 2020]\n",
    "#mes08_ano20.to_csv(\"mes08_ano20.csv\")\n",
    "\n",
    "\n",
    "#mes09 = filtered_df_SP_20_final[filtered_df_SP_20_final['month'] == 9]\n",
    "#mes09_ano20 = mes09[mes09['year'] == 2020]\n",
    "#mes09_ano20.to_csv(\"mes09_ano20.csv\")\n",
    "\n",
    "\n",
    "#mes10 = filtered_df_SP_20_final[filtered_df_SP_20_final['month'] == 10]\n",
    "#mes10_ano20 = mes10[mes10['year'] == 2020]\n",
    "#mes10_ano20.to_csv(\"mes10_ano20.csv\")\n",
    "\n",
    "\n",
    "#mes11 = filtered_df_SP_20_final[filtered_df_SP_20_final['month'] == 11]\n",
    "#mes11_ano20 = mes11[mes11['year'] == 2020]\n",
    "#mes11_ano20.to_csv(\"mes11_ano20.csv\")\n",
    "\n",
    "\n",
    "#mes12 = filtered_df_SP_20_final[filtered_df_SP_20_final['month'] == 12]\n",
    "#mes12_ano20 = mes12[mes12['year'] == 2020]\n",
    "#mes12_ano20.to_csv(\"mes12_ano20.csv\")"
   ]
  },
  {
   "cell_type": "code",
   "execution_count": null,
   "id": "ed4b9a87",
   "metadata": {},
   "outputs": [],
   "source": []
  }
 ],
 "metadata": {
  "kernelspec": {
   "display_name": "Python 3 (ipykernel)",
   "language": "python",
   "name": "python3"
  },
  "language_info": {
   "codemirror_mode": {
    "name": "ipython",
    "version": 3
   },
   "file_extension": ".py",
   "mimetype": "text/x-python",
   "name": "python",
   "nbconvert_exporter": "python",
   "pygments_lexer": "ipython3",
   "version": "3.9.12"
  }
 },
 "nbformat": 4,
 "nbformat_minor": 5
}
