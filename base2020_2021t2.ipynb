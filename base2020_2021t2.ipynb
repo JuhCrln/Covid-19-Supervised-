{
 "cells": [
  {
   "cell_type": "code",
   "execution_count": 116,
   "id": "b591bc5d",
   "metadata": {
    "scrolled": false
   },
   "outputs": [],
   "source": [
    "import numpy as np\n",
    "import numpy\n",
    "import pandas as pd\n",
    "from pandas import read_csv\n",
    "import warnings\n",
    "warnings.filterwarnings('ignore')"
   ]
  },
  {
   "cell_type": "code",
   "execution_count": 117,
   "id": "c45b0adb",
   "metadata": {},
   "outputs": [],
   "source": [
    "# load data\n",
    "data0 = read_csv('meu_dataset0.csv', delimiter=\",\", low_memory=False, keep_default_na=False)\n",
    "data0['CLASSI_FIN'] = data0['CLASSI_FIN'].replace(1,0)\n",
    "data0['CLASSI_FIN'] = data0['CLASSI_FIN'].replace(2,0)\n",
    "data0['CLASSI_FIN'] = data0['CLASSI_FIN'].replace(3,0)\n",
    "data0['CLASSI_FIN'] = data0['CLASSI_FIN'].replace(4,0)\n",
    "data0['CLASSI_FIN'] = data0['CLASSI_FIN'].replace(5,1)\n",
    "data0['FATOR_RISC'] = data0['FATOR_RISC'].replace('S', 1)\n",
    "data0['FATOR_RISC'] = data0['FATOR_RISC'].replace('N', 2)\n",
    "\n",
    "# load data\n",
    "data1 = read_csv('meu_dataset1.csv', delimiter=\",\", low_memory=False, keep_default_na=False)\n",
    "data1['CLASSI_FIN'] = data1['CLASSI_FIN'].replace(1,0)\n",
    "data1['CLASSI_FIN'] = data1['CLASSI_FIN'].replace(2,0)\n",
    "data1['CLASSI_FIN'] = data1['CLASSI_FIN'].replace(3,0)\n",
    "data1['CLASSI_FIN'] = data1['CLASSI_FIN'].replace(4,0)\n",
    "data1['CLASSI_FIN'] = data1['CLASSI_FIN'].replace(5,1)\n",
    "\n",
    "# load data\n",
    "#data2 = read_csv('meu_dataset2.csv', delimiter=\",\", low_memory=False, keep_default_na=False)\n",
    "#data2['CLASSI_FIN'] = data2['CLASSI_FIN'].replace(1,0)\n",
    "#data2['CLASSI_FIN'] = data2['CLASSI_FIN'].replace(2,0)\n",
    "#data2['CLASSI_FIN'] = data2['CLASSI_FIN'].replace(3,0)\n",
    "#data2['CLASSI_FIN'] = data2['CLASSI_FIN'].replace(4,0)\n",
    "#data2['CLASSI_FIN'] = data2['CLASSI_FIN'].replace(5,1)"
   ]
  },
  {
   "cell_type": "code",
   "execution_count": 118,
   "id": "24ca3bfa",
   "metadata": {
    "scrolled": false
   },
   "outputs": [],
   "source": [
    "#frames = [data0, data1, data2]\n",
    "frames = [data0, data1]\n",
    "df = pd.concat(frames) "
   ]
  },
  {
   "cell_type": "code",
   "execution_count": 119,
   "id": "6291626d",
   "metadata": {},
   "outputs": [],
   "source": [
    "df20_22 = df[['DT_NOTIFIC', 'SG_UF_NOT','DESC_RESP','DIARREIA',\n",
    "                  'DISPNEIA','DOR_ABD','FADIGA','FEBRE','GARGANTA',\n",
    "                  'PERD_OLFT','PERD_PALA','SATURACAO','TOSSE','VOMITO','VACINA_COV','CLASSI_FIN']]\n"
   ]
  },
  {
   "cell_type": "code",
   "execution_count": 120,
   "id": "e36903e5",
   "metadata": {
    "scrolled": false
   },
   "outputs": [],
   "source": [
    "df_SP = df20_22['SG_UF_NOT']== 'SP'\n",
    "filtered_df_SP = df20_22[df_SP]\n",
    "\n",
    "#filtered_df_SP.to_csv(\"filtered_df_SP.csv\", index=False)\n",
    "\n",
    "df_AM = df20_22['SG_UF_NOT']== 'AM'\n",
    "filtered_df_AM = df20_22[df_AM]\n",
    "\n",
    "#filtered_df_AM.to_csv(\"filtered_df_AM.csv\", index=False)"
   ]
  },
  {
   "cell_type": "code",
   "execution_count": 121,
   "id": "600ddf71",
   "metadata": {
    "scrolled": false
   },
   "outputs": [],
   "source": [
    "filtered_df_SP['DT_NOTIFIC'] = pd.to_datetime(filtered_df_SP['DT_NOTIFIC'])\n",
    "filtered_df_SP_data = filtered_df_SP.sort_values(by='DT_NOTIFIC')"
   ]
  },
  {
   "cell_type": "code",
   "execution_count": 122,
   "id": "484a506b",
   "metadata": {},
   "outputs": [],
   "source": [
    "filtered_df_AM['DT_NOTIFIC'] = pd.to_datetime(filtered_df_AM['DT_NOTIFIC'])\n",
    "filtered_df_AM_data = filtered_df_AM.sort_values(by='DT_NOTIFIC')"
   ]
  },
  {
   "cell_type": "code",
   "execution_count": 123,
   "id": "3e59dde7",
   "metadata": {},
   "outputs": [],
   "source": [
    "filtered_df_SP_data['year'] = filtered_df_SP_data['DT_NOTIFIC'].dt.year\n",
    "filtered_df_SP_data['month'] = filtered_df_SP_data['DT_NOTIFIC'].dt.month"
   ]
  },
  {
   "cell_type": "code",
   "execution_count": 124,
   "id": "e6865825",
   "metadata": {},
   "outputs": [],
   "source": [
    "filtered_df_AM_data['year'] = filtered_df_AM_data['DT_NOTIFIC'].dt.year\n",
    "filtered_df_AM_data['month'] = filtered_df_AM_data['DT_NOTIFIC'].dt.month"
   ]
  },
  {
   "cell_type": "code",
   "execution_count": 125,
   "id": "85ad15ee",
   "metadata": {},
   "outputs": [],
   "source": [
    "filtered_df_SP_data.drop(['DT_NOTIFIC'], axis=1, inplace=True)"
   ]
  },
  {
   "cell_type": "code",
   "execution_count": 126,
   "id": "e6cff2a7",
   "metadata": {},
   "outputs": [],
   "source": [
    "filtered_df_AM_data.drop(['DT_NOTIFIC'], axis=1, inplace=True)"
   ]
  },
  {
   "cell_type": "code",
   "execution_count": null,
   "id": "90fe0d3f",
   "metadata": {},
   "outputs": [],
   "source": [
    "#filtered_df_SP_final = filtered_df_SP_data[['SG_UF_NOT', 'month','year','DESC_RESP','DIARREIA',\n",
    "                  #'DISPNEIA','DOR_ABD','FADIGA','FEBRE','GARGANTA',\n",
    "                  #'PERD_OLFT','PERD_PALA','SATURACAO','TOSSE','VOMITO','CLASSI_FIN']]"
   ]
  },
  {
   "cell_type": "code",
   "execution_count": 127,
   "id": "660fdf07",
   "metadata": {},
   "outputs": [],
   "source": [
    "filtered_df_SP_final = filtered_df_SP_data[['SG_UF_NOT', 'month','year','DESC_RESP','DIARREIA',\n",
    "                  'DISPNEIA','DOR_ABD','FADIGA','FEBRE','GARGANTA',\n",
    "                  'PERD_OLFT','PERD_PALA','SATURACAO','TOSSE','VOMITO','VACINA_COV','CLASSI_FIN']]"
   ]
  },
  {
   "cell_type": "code",
   "execution_count": null,
   "id": "6ea030c2",
   "metadata": {},
   "outputs": [],
   "source": [
    "#filtered_df_AM_final = filtered_df_AM_data[['SG_UF_NOT','month','year','DESC_RESP','DIARREIA',\n",
    "                  #'DISPNEIA','DOR_ABD','FADIGA','FEBRE','GARGANTA',\n",
    "                  #'PERD_OLFT','PERD_PALA','SATURACAO','TOSSE','VOMITO','CLASSI_FIN']]"
   ]
  },
  {
   "cell_type": "code",
   "execution_count": 128,
   "id": "a43c676c",
   "metadata": {},
   "outputs": [],
   "source": [
    "filtered_df_AM_final = filtered_df_AM_data[['SG_UF_NOT','month','year','DESC_RESP','DIARREIA',\n",
    "                  'DISPNEIA','DOR_ABD','FADIGA','FEBRE','GARGANTA',\n",
    "                  'PERD_OLFT','PERD_PALA','SATURACAO','TOSSE','VOMITO','VACINA_COV','CLASSI_FIN']]"
   ]
  },
  {
   "cell_type": "code",
   "execution_count": 129,
   "id": "27659942",
   "metadata": {},
   "outputs": [],
   "source": [
    "filtered_df_SP_final.to_csv(\"filtered_df_SP_final.csv\")"
   ]
  },
  {
   "cell_type": "code",
   "execution_count": 130,
   "id": "ab855655",
   "metadata": {},
   "outputs": [],
   "source": [
    "filtered_df_AM_final.to_csv(\"filtered_df_AM_final.csv\")"
   ]
  }
 ],
 "metadata": {
  "kernelspec": {
   "display_name": "Python 3 (ipykernel)",
   "language": "python",
   "name": "python3"
  },
  "language_info": {
   "codemirror_mode": {
    "name": "ipython",
    "version": 3
   },
   "file_extension": ".py",
   "mimetype": "text/x-python",
   "name": "python",
   "nbconvert_exporter": "python",
   "pygments_lexer": "ipython3",
   "version": "3.9.12"
  }
 },
 "nbformat": 4,
 "nbformat_minor": 5
}
