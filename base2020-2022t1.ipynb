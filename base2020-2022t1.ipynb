{
 "cells": [
  {
   "cell_type": "code",
   "execution_count": 41,
   "metadata": {
    "executionInfo": {
     "elapsed": 1260,
     "status": "ok",
     "timestamp": 1649968983427,
     "user": {
      "displayName": "Julliana Caroline",
      "userId": "17131288498388431502"
     },
     "user_tz": 180
    },
    "id": "swyhqypnzZE1"
   },
   "outputs": [],
   "source": [
    "import pandas as pd\n",
    "import numpy as np\n",
    "import warnings\n",
    "warnings.filterwarnings('ignore')"
   ]
  },
  {
   "cell_type": "code",
   "execution_count": 42,
   "metadata": {
    "executionInfo": {
     "elapsed": 5844,
     "status": "ok",
     "timestamp": 1649969117355,
     "user": {
      "displayName": "Julliana Caroline",
      "userId": "17131288498388431502"
     },
     "user_tz": 180
    },
    "id": "rejqoDDH0L1P",
    "scrolled": false
   },
   "outputs": [],
   "source": [
    "df20 = pd.read_csv('INFLUD20.csv', delimiter =';', low_memory=False, keep_default_na=False)"
   ]
  },
  {
   "cell_type": "code",
   "execution_count": 43,
   "metadata": {},
   "outputs": [],
   "source": [
    "df21 = pd.read_csv('INFLUD21.csv', delimiter =';', low_memory=False, keep_default_na=False)"
   ]
  },
  {
   "cell_type": "code",
   "execution_count": 44,
   "metadata": {},
   "outputs": [],
   "source": [
    "#df21"
   ]
  },
  {
   "cell_type": "code",
   "execution_count": 45,
   "metadata": {},
   "outputs": [],
   "source": [
    "#df22 = pd.read_csv('INFLUD22.csv', delimiter =';', low_memory=False, keep_default_na=False)"
   ]
  },
  {
   "cell_type": "code",
   "execution_count": 46,
   "metadata": {},
   "outputs": [],
   "source": [
    "dataset0 = df20[ ['DT_NOTIFIC', 'SG_UF_NOT', 'ASMA','CARDIOPATI','DIABETES','DESC_RESP','DIARREIA',\n",
    "                  'DISPNEIA','DOR_ABD','FADIGA','FATOR_RISC','FEBRE','GARGANTA','HEMATOLOGI',\n",
    "                 'HEPATICA','IMUNODEPRE', 'NEUROLOGIC','OBESIDADE','OUTRO_SIN',\n",
    "                  'PERD_OLFT','PERD_PALA','PNEUMOPATI','PUERPERA','RENAL','SATURACAO',\n",
    "                 'SIND_DOWN','TOSSE','VOMITO','CLASSI_FIN'] ]\n",
    "\n",
    "#dataset0"
   ]
  },
  {
   "cell_type": "code",
   "execution_count": 47,
   "metadata": {
    "scrolled": false
   },
   "outputs": [],
   "source": [
    "dataset1 = df21[ ['DT_NOTIFIC', 'SG_UF_NOT','ASMA','CARDIOPATI','DIABETES','DESC_RESP','DIARREIA',\n",
    "                 'DISPNEIA','DOR_ABD','FADIGA','FATOR_RISC','FEBRE','GARGANTA','HEMATOLOGI',\n",
    "                  'HEPATICA','IMUNODEPRE', 'NEUROLOGIC','OBESIDADE','OUTRO_SIN',\n",
    "                 'PERD_OLFT','PERD_PALA','PNEUMOPATI','PUERPERA','RENAL','SATURACAO',\n",
    "                 'SIND_DOWN','TOSSE','VOMITO','VACINA_COV','CLASSI_FIN'] ]\n",
    "\n",
    "#dataset1"
   ]
  },
  {
   "cell_type": "code",
   "execution_count": 48,
   "metadata": {},
   "outputs": [],
   "source": [
    "#dataset2 = df22[ ['DT_NOTIFIC', 'SG_UF_NOT', 'ASMA','CARDIOPATI','DIABETES','DESC_RESP','DIARREIA',\n",
    "                # 'DISPNEIA','DOR_ABD','FADIGA','FATOR_RISC','FEBRE','GARGANTA','HEMATOLOGI',\n",
    "                #'HEPATICA','IMUNODEPRE', 'NEUROLOGIC','OBESIDADE','OUTRO_SIN',\n",
    "                # 'PERD_OLFT','PERD_PALA','PNEUMOPATI','PUERPERA','RENAL','SATURACAO',\n",
    "                 # 'SIND_DOWN','TOSSE','VOMITO','CLASSI_FIN'] ]\n",
    "\n",
    "#dataset2"
   ]
  },
  {
   "cell_type": "code",
   "execution_count": 49,
   "metadata": {},
   "outputs": [],
   "source": [
    "#dataset0['ASMA'].mode()\n",
    "#dataset0['ASMA'].mode()\n",
    "#dataset0['CARDIOPATI'].mode()\n",
    "#dataset0['DIABETES'].mode()\n",
    "#dataset0['DESC_RESP'].mode()\n",
    "#dataset0['DIARREIA'].mode()\n",
    "#dataset0['DISPNEIA'].mode()\n",
    "#dataset0['DOR_ABD'].mode()\n",
    "#dataset0['FADIGA'].mode()\n",
    "#dataset0['FATOR_RISC'].value_counts()\n",
    "#dataset0['FEBRE'].mode()\n",
    "#dataset0['GARGANTA'].mode()\n",
    "#dataset0['HEMATOLOGI'].mode()\n",
    "#dataset0['HEPATICA'].mode()\n",
    "#dataset0['IMUNODEPRE'].mode()\n",
    "#dataset0['NEUROLOGIC'].mode()\n",
    "#dataset0['OBESIDADE'].mode()\n",
    "#dataset0['OUTRO_SIN'].mode()\n",
    "#dataset0['PERD_OLFT'].mode()\n",
    "#dataset0['PERD_PALA'].mode()\n",
    "#dataset0['PNEUMOPATI'].mode()\n",
    "#dataset0['PUERPERA'].mode()\n",
    "#dataset0['RENAL'].mode()\n",
    "#dataset0['SATURACAO'].mode()\n",
    "#dataset0['SIND_DOWN'].mode()\n",
    "#dataset0['TOSSE'].mode()\n",
    "#dataset0['VOMITO'].mode()\n",
    "#dataset0['CLASSI_FIN'].mode()"
   ]
  },
  {
   "cell_type": "code",
   "execution_count": 50,
   "metadata": {},
   "outputs": [],
   "source": [
    "dataset0['ASMA'] = dataset0['ASMA'].replace('', 0)\n",
    "dataset0['CARDIOPATI'] = dataset0['CARDIOPATI'].replace('', 0)\n",
    "dataset0['DIABETES'] = dataset0['DIABETES'].replace('', 0)\n",
    "dataset0['DESC_RESP'] = dataset0['DESC_RESP'].replace('', 1)\n",
    "dataset0['DIARREIA'] = dataset0['DIARREIA'].replace('', 2)\n",
    "dataset0['DISPNEIA'] = dataset0['DISPNEIA'].replace('', 1)\n",
    "dataset0['DOR_ABD'] = dataset0['DOR_ABD'].replace('', 0)\n",
    "dataset0['FADIGA'] = dataset0['FADIGA'].replace('', 0)\n",
    "dataset0['FATOR_RISC'] = dataset0['FATOR_RISC'].replace('', 'S')\n",
    "dataset0['FEBRE'] = dataset0['FEBRE'].replace('', 1)\n",
    "dataset0['GARGANTA'] = dataset0['GARGANTA'].replace('', 2)\n",
    "dataset0['HEMATOLOGI'] = dataset0['HEMATOLOGI'].replace('', 0)\n",
    "dataset0['HEPATICA'] = dataset0['HEPATICA'].replace('', 0)\n",
    "dataset0['IMUNODEPRE'] = dataset0['IMUNODEPRE'].replace('', 0)\n",
    "dataset0['NEUROLOGIC'] = dataset0['NEUROLOGIC'].replace('', 0)\n",
    "dataset0['OBESIDADE'] = dataset0['OBESIDADE'].replace('', 0)\n",
    "dataset0['OUTRO_SIN'] = dataset0['OUTRO_SIN'].replace('', 2)                                                          \n",
    "dataset0['PERD_OLFT'] = dataset0['PERD_OLFT'].replace('', 0)                                                           \n",
    "dataset0['PERD_PALA'] = dataset0['PERD_PALA'].replace('', 0)                                                           \n",
    "dataset0['PNEUMOPATI'] = dataset0['PNEUMOPATI'].replace('', 0)                                                            \n",
    "dataset0['PUERPERA'] = dataset0['PUERPERA'].replace('', 0)                                                           \n",
    "dataset0['RENAL'] = dataset0['RENAL'].replace('', 0)                                                           \n",
    "dataset0['SATURACAO'] = dataset0['SATURACAO'].replace('', 1)                                                          \n",
    "dataset0['SIND_DOWN'] = dataset0['SIND_DOWN'].replace('', 0)                                                           \n",
    "dataset0['TOSSE'] = dataset0['TOSSE'].replace('', 1)                                                            \n",
    "dataset0['VOMITO'] = dataset0['VOMITO'].replace('', 2)                                                            \n",
    "dataset0['CLASSI_FIN'] = dataset0['CLASSI_FIN'].replace('', 5)"
   ]
  },
  {
   "cell_type": "code",
   "execution_count": 51,
   "metadata": {},
   "outputs": [],
   "source": [
    "#dataset1['ASMA'].mode()\n",
    "#dataset1['CARDIOPATI'].mode()\n",
    "#dataset1['DIABETES'].mode()\n",
    "#dataset1['DESC_RESP'].mode()\n",
    "#dataset1['DIARREIA'].mode()\n",
    "#dataset1['DISPNEIA'].mode()\n",
    "#dataset1['DOR_ABD'].mode()\n",
    "#dataset1['FADIGA'].mode()\n",
    "#dataset1['FATOR_RISC'].mode()\n",
    "#dataset1['FEBRE'].mode()\n",
    "#dataset1['GARGANTA'].mode()\n",
    "#dataset1['HEMATOLOGI'].mode()\n",
    "#dataset1['HEPATICA'].mode()\n",
    "#dataset1['IMUNODEPRE'].mode()\n",
    "#dataset1['NEUROLOGIC'].mode()\n",
    "#dataset1['OBESIDADE'].mode()\n",
    "#dataset1['OUTRO_SIN'].mode()\n",
    "#dataset1['PERD_OLFT'].mode()\n",
    "#dataset1['PERD_PALA'].mode()\n",
    "#dataset1['PNEUMOPATI'].mode()\n",
    "#dataset1['PUERPERA'].mode()\n",
    "#dataset1['RENAL'].mode()\n",
    "#dataset1['SATURACAO'].mode()\n",
    "#dataset1['SIND_DOWN'].mode()\n",
    "#dataset1['TOMO_RES'].mode()\n",
    "#dataset1['TOSSE'].mode()\n",
    "#dataset1['VOMITO'].mode()\n",
    "#dataset1['VACINA_COV'].mode()\n",
    "#dataset1['CLASSI_FIN'].mode()"
   ]
  },
  {
   "cell_type": "code",
   "execution_count": 52,
   "metadata": {},
   "outputs": [],
   "source": [
    "dataset1['ASMA'] = dataset1['ASMA'].replace('', 0)\n",
    "dataset1['CARDIOPATI'] = dataset1['CARDIOPATI'].replace('', 1)\n",
    "dataset1['DIABETES'] = dataset1['DIABETES'].replace('', 2)\n",
    "dataset1['DESC_RESP'] = dataset1['DESC_RESP'].replace('', 1)\n",
    "dataset1['DIARREIA'] = dataset1['DIARREIA'].replace('', 2)\n",
    "dataset1['DISPNEIA'] = dataset1['DISPNEIA'].replace('', 1)\n",
    "dataset1['DOR_ABD'] = dataset1['DOR_ABD'].replace('', 2)\n",
    "dataset1['FADIGA'] = dataset1['FADIGA'].replace('', 2)\n",
    "dataset1['FATOR_RISC'] = dataset1['FATOR_RISC'].replace('', 1)\n",
    "dataset1['FEBRE'] = dataset1['FEBRE'].replace('', 1)\n",
    "dataset1['GARGANTA'] = dataset1['GARGANTA'].replace('', 2)\n",
    "dataset1['HEMATOLOGI'] = dataset1['HEMATOLOGI'].replace('', 2)\n",
    "dataset1['HEPATICA'] = dataset1['HEPATICA'].replace('', 2)\n",
    "dataset1['IMUNODEPRE'] = dataset1['IMUNODEPRE'].replace('', 2)\n",
    "dataset1['NEUROLOGIC'] = dataset1['NEUROLOGIC'].replace('', 2)\n",
    "dataset1['OBESIDADE'] = dataset1['OBESIDADE'].replace('', 2)\n",
    "dataset1['OUTRO_SIN'] = dataset1['OUTRO_SIN'].replace('', 2)                                                          \n",
    "dataset1['PERD_OLFT'] = dataset1['PERD_OLFT'].replace('', 2)                                                           \n",
    "dataset1['PERD_PALA'] = dataset1['PERD_PALA'].replace('', 2)                                                           \n",
    "dataset1['PNEUMOPATI'] = dataset1['PNEUMOPATI'].replace('', 2)                                                            \n",
    "dataset1['PUERPERA'] = dataset1['PUERPERA'].replace('', 2)                                                           \n",
    "dataset1['RENAL'] = dataset1['RENAL'].replace('', 2)                                                           \n",
    "dataset1['SATURACAO'] = dataset1['SATURACAO'].replace('', 1)                                                          \n",
    "dataset1['SIND_DOWN'] = dataset1['SIND_DOWN'].replace('', 2)                                                           \n",
    "dataset1['TOSSE'] = dataset1['TOSSE'].replace('', 1)                                                            \n",
    "dataset1['VOMITO'] = dataset1['VOMITO'].replace('', 2)\n",
    "dataset1['VACINA_COV'] = dataset1['VACINA_COV'].replace('', 2)  \n",
    "dataset1['CLASSI_FIN'] = dataset1['CLASSI_FIN'].replace('', 5)"
   ]
  },
  {
   "cell_type": "code",
   "execution_count": 53,
   "metadata": {},
   "outputs": [],
   "source": [
    "#dataset2['ASMA'].mode()\n",
    "#dataset2['CARDIOPATI'].mode()\n",
    "#dataset2['DIABETES'].mode()\n",
    "#dataset2['DESC_RESP'].mode()\n",
    "#dataset2['DIARREIA'].mode()\n",
    "#dataset2['DISPNEIA'].mode()\n",
    "#dataset2['DOR_ABD'].mode()\n",
    "#dataset2['FADIGA'].mode()\n",
    "#dataset2['FATOR_RISC'].mode()\n",
    "#dataset2['FEBRE'].mode()\n",
    "#dataset2['GARGANTA'].mode()\n",
    "#dataset2['HEMATOLOGI'].mode()\n",
    "#dataset2['HEPATICA'].mode()\n",
    "#dataset2['IMUNODEPRE'].mode()\n",
    "#dataset2['NEUROLOGIC'].mode()\n",
    "#dataset2['OBESIDADE'].mode()\n",
    "#dataset2['OUTRO_SIN'].mode()\n",
    "#dataset2['PERD_OLFT'].mode()\n",
    "#dataset2['PERD_PALA'].mode()\n",
    "#dataset2['PNEUMOPATI'].mode()\n",
    "#dataset2['PUERPERA'].mode()\n",
    "#dataset2['RENAL'].mode()\n",
    "#dataset2['SATURACAO'].mode()\n",
    "#dataset2['SIND_DOWN'].mode()\n",
    "#dataset2['TOSSE'].mode()\n",
    "#dataset2['VOMITO'].mode()\n",
    "#dataset2['CLASSI_FIN'].mode()"
   ]
  },
  {
   "cell_type": "code",
   "execution_count": 54,
   "metadata": {},
   "outputs": [],
   "source": [
    "#dataset2['ASMA'] = dataset2['ASMA'].replace('', 0)\n",
    "#dataset2['CARDIOPATI'] = dataset2['CARDIOPATI'].replace('', 0)\n",
    "#dataset2['DIABETES'] = dataset2['DIABETES'].replace('', 0)\n",
    "#dataset2['DESC_RESP'] = dataset2['DESC_RESP'].replace('', 1)\n",
    "#dataset2['DIARREIA'] = dataset2['DIARREIA'].replace('', 2)\n",
    "#dataset2['DISPNEIA'] = dataset2['DISPNEIA'].replace('', 1)\n",
    "#dataset2['DOR_ABD'] = dataset2['DOR_ABD'].replace('', 2)\n",
    "#dataset2['FADIGA'] = dataset2['FADIGA'].replace('', 2)\n",
    "#dataset2['FATOR_RISC'] = dataset2['FATOR_RISC'].replace('', 1)\n",
    "#dataset2['FEBRE'] = dataset2['FEBRE'].replace('', 1)\n",
    "#dataset2['GARGANTA'] = dataset2['GARGANTA'].replace('', 2)\n",
    "#dataset2['HEMATOLOGI'] = dataset2['HEMATOLOGI'].replace('', 0)\n",
    "#dataset2['HEPATICA'] = dataset2['HEPATICA'].replace('', 0)\n",
    "#dataset2['IMUNODEPRE'] = dataset2['IMUNODEPRE'].replace('', 0)\n",
    "#dataset2['NEUROLOGIC'] = dataset2['NEUROLOGIC'].replace('', 2)\n",
    "#dataset2['OBESIDADE'] = dataset2['OBESIDADE'].replace('', 0)\n",
    "#dataset2['OUTRO_SIN'] = dataset2['OUTRO_SIN'].replace('', 2)                                                          \n",
    "#dataset2['PERD_OLFT'] = dataset2['PERD_OLFT'].replace('', 2)                                                           \n",
    "#dataset2['PERD_PALA'] = dataset2['PERD_PALA'].replace('', 2)                                                           \n",
    "#dataset2['PNEUMOPATI'] = dataset2['PNEUMOPATI'].replace('', 0)                                                            \n",
    "#dataset2['PUERPERA'] = dataset2['PUERPERA'].replace('', 0)                                                           \n",
    "#dataset2['RENAL'] = dataset2['RENAL'].replace('', 0)                                                           \n",
    "#dataset2['SATURACAO'] = dataset2['SATURACAO'].replace('', 1)                                                          \n",
    "#dataset2['SIND_DOWN'] = dataset2['SIND_DOWN'].replace('', 0)                                                           \n",
    "#dataset2['TOSSE'] = dataset2['TOSSE'].replace('', 1)                                                            \n",
    "#dataset2['VOMITO'] = dataset2['VOMITO'].replace('', 2)                                                            \n",
    "#dataset2['CLASSI_FIN'] = dataset2['CLASSI_FIN'].replace('', 5)"
   ]
  },
  {
   "cell_type": "code",
   "execution_count": 56,
   "metadata": {
    "scrolled": false
   },
   "outputs": [],
   "source": [
    "#dataset0.to_csv(\"meu_dataset0.csv\", index=False)\n",
    "dataset1.to_csv(\"meu_dataset1.csv\", index=False)\n",
    "#dataset2.to_csv(\"meu_dataset2.csv\", index=False)"
   ]
  },
  {
   "cell_type": "code",
   "execution_count": null,
   "metadata": {},
   "outputs": [],
   "source": []
  }
 ],
 "metadata": {
  "colab": {
   "authorship_tag": "ABX9TyMa2A05OhiuoooobRa4/HUC",
   "name": "Analise_Covid_Malasia.ipynb",
   "provenance": []
  },
  "kernelspec": {
   "display_name": "Python 3 (ipykernel)",
   "language": "python",
   "name": "python3"
  },
  "language_info": {
   "codemirror_mode": {
    "name": "ipython",
    "version": 3
   },
   "file_extension": ".py",
   "mimetype": "text/x-python",
   "name": "python",
   "nbconvert_exporter": "python",
   "pygments_lexer": "ipython3",
   "version": "3.9.12"
  }
 },
 "nbformat": 4,
 "nbformat_minor": 1
}
